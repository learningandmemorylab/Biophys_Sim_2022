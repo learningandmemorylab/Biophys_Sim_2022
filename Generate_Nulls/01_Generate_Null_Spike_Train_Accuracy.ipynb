{
 "cells": [
  {
   "cell_type": "code",
   "execution_count": 1,
   "metadata": {},
   "outputs": [
    {
     "name": "stdout",
     "output_type": "stream",
     "text": [
      "Done\n"
     ]
    }
   ],
   "source": [
    "import os\n",
    "import random\n",
    "import datetime\n",
    "import numpy as np\n",
    "import scipy.io as spio\n",
    "\n",
    "def phi(inVolt,threshold):\n",
    "    currArr = inVolt/threshold\n",
    "    return np.where(currArr>1,1,currArr)\n",
    "\n",
    "def galvesLocherbachSimulator(unitCount,connGraph,remain,thresh,timeSteps):\n",
    "    #Unit Count, Connection Graph, and timeSteps are all known\n",
    "    random.seed(2022) #Pick a RNG seed, does not matter which one, just make sure it consistent across all runs\n",
    "    outputSimmedSpikeTrain = 0\n",
    "    sampV = np.random.randint(0,thresh,size=(unitCount,))\n",
    "    for t in range(timeSteps):\n",
    "        spikeProb = phi(sampV,thresh)\n",
    "        randArr = np.random.uniform(0,thresh*3,size=(unitCount,))\n",
    "        trueSpike = np.reshape(np.where(spikeProb>randArr,1,0),(len(spikeProb),1)).astype(int)\n",
    "        if np.shape(outputSimmedSpikeTrain) == ():\n",
    "            outputSimmedSpikeTrain = trueSpike\n",
    "        else:\n",
    "            outputSimmedSpikeTrain = np.concatenate((outputSimmedSpikeTrain,trueSpike),axis=1)\n",
    "        voltSpike = np.where(spikeProb>randArr,0,spikeProb)\n",
    "        voltSpike = voltSpike*remain\n",
    "        sampV = voltSpike+np.sum(voltSpike*connGraph)\n",
    "    return outputSimmedSpikeTrain.astype(int)\n",
    "\n",
    "def generateFakeConnectionGraph(inputUnitCount):\n",
    "    rawArray = np.random.rand(inputUnitCount,inputUnitCount)\n",
    "    lowerTriangleInds = np.tril_indices(inputUnitCount)\n",
    "    rawArray[lowerTriangleInds] = 0\n",
    "    return rawArray+np.transpose(rawArray)\n",
    "\n",
    "def getTrueValue(inputFile):\n",
    "    imat = spio.loadmat(inputFile)\n",
    "    return imat.get('spaSpike')\n",
    "\n",
    "def generateNullAccuracy(spikeTrainRefFile):\n",
    "    trueSpikeTrain = getTrueValue(spikeTrainRefFile)\n",
    "    unitCount = np.shape(trueSpikeTrain)[0]\n",
    "    nullAccuracy = []\n",
    "    for i in range(1000):\n",
    "        falseConns = generateFakeConnectionGraph(unitCount)\n",
    "        falseTrain = galvesLocherbachSimulator(unitCount,falseConns,1,18.0475,100)\n",
    "        currAcc = np.sum(np.abs(trueSpikeTrain[:,4500:4600]-falseTrain))/(np.shape(falseTrain)[0]*100)\n",
    "        nullAccuracy.append(1-currAcc)\n",
    "    return nullAccuracy\n",
    "\n",
    "trueFile = ''\n",
    "saveFile = ''\n",
    "dSave = {'nullSpikeTrainAcc':generateNullAccuracy(trueFile)}\n",
    "var = spio.savemat(saveFile,dSave)\n",
    "print('Done')\n"
   ]
  }
 ],
 "metadata": {
  "kernelspec": {
   "display_name": "Python 3",
   "language": "python",
   "name": "python3"
  },
  "language_info": {
   "codemirror_mode": {
    "name": "ipython",
    "version": 3
   },
   "file_extension": ".py",
   "mimetype": "text/x-python",
   "name": "python",
   "nbconvert_exporter": "python",
   "pygments_lexer": "ipython3",
   "version": "3.7.3"
  }
 },
 "nbformat": 4,
 "nbformat_minor": 2
}
