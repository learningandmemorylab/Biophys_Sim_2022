{
 "cells": [
  {
   "cell_type": "code",
   "execution_count": 1,
   "metadata": {},
   "outputs": [
    {
     "name": "stdout",
     "output_type": "stream",
     "text": [
      "Done\n"
     ]
    }
   ],
   "source": [
    "import os\n",
    "import random\n",
    "import numpy as np\n",
    "import scipy.io as spio\n",
    "import matplotlib.pyplot as plt\n",
    "from sklearn.manifold import MDS\n",
    "from mpl_toolkits import mplot3d\n",
    "\n",
    "def phi(inVolt,threshold):\n",
    "    currArr = inVolt/threshold\n",
    "    return np.where(currArr>1,1,currArr)\n",
    "\n",
    "def galvesLocherbachSimulator(unitCount,connGraph,remain,thresh,timeSteps):\n",
    "    #Unit Count, Connection Graph, and timeSteps are all known\n",
    "    random.seed(2022) #Pick a RNG seed, does not matter which one, just make sure it consistent across all runs\n",
    "    outputSimmedSpikeTrain = 0\n",
    "    sampV = np.random.randint(0,thresh,size=(unitCount,))\n",
    "    for t in range(timeSteps):\n",
    "        spikeProb = phi(sampV,thresh)\n",
    "        randArr = np.random.random(size=(unitCount,))\n",
    "        trueSpike = np.reshape(np.where(spikeProb>randArr,1,0),(len(spikeProb),1)).astype(int)\n",
    "        if np.shape(outputSimmedSpikeTrain) == ():\n",
    "            outputSimmedSpikeTrain = trueSpike\n",
    "        else:\n",
    "            outputSimmedSpikeTrain = np.concatenate((outputSimmedSpikeTrain,trueSpike),axis=1)\n",
    "        voltSpike = np.where(spikeProb>randArr,0,spikeProb)\n",
    "        voltSpike = voltSpike*remain\n",
    "        sampV = voltSpike+np.sum(voltSpike*connGraph)\n",
    "    return outputSimmedSpikeTrain.astype(int)\n",
    "\n",
    "def loadTrueValues():\n",
    "    rawFile = ''\n",
    "    rmat = spio.loadmat(rawFile)\n",
    "    return rmat.get('connectionAll')\n",
    "\n",
    "def getRealSpikeTrain():\n",
    "    realFile = ''\n",
    "    remat = spio.loadmat(realFile)\n",
    "    return remat.get('spaSpike')[:,:5000]\n",
    "\n",
    "def buildSimulatedSpikeTrain():\n",
    "    graphConn = loadTrueValues()\n",
    "    unCount = np.shape(graphConn)[0]\n",
    "    fakeSpikeTrain = galvesLocherbachSimulator(unCount,graphConn,1,18.0475,5000)\n",
    "    return fakeSpikeTrain\n",
    "\n",
    "def generateSpikeRasterPlot(neuralData,saveFigure):\n",
    "    fig = plt.figure()\n",
    "    ax1 = fig.add_subplot(1,1,1)\n",
    "    ax1.eventplot(neuralData, color = 'k',linelengths=[.3]*np.shape(neuralData)[0])\n",
    "    ax1.set_xlabel('Time',fontsize=18)\n",
    "    ax1.set_xticklabels('')\n",
    "    ax1.set_ylabel('Neuron',fontsize=18)\n",
    "    #plt.show()\n",
    "    fig.savefig(saveFigure,bbox_inches='tight')\n",
    "    plt.close()\n",
    "    return\n",
    "\n",
    "sav01 = ''\n",
    "sav02 = ''\n",
    "trueSpikeTrain = getRealSpikeTrain()\n",
    "simmSpikeTrain = buildSimulatedSpikeTrain()\n",
    "fig01 = generateSpikeRasterPlot(trueSpikeTrain[:25,:400],sav01)\n",
    "fig02 = generateSpikeRasterPlot(simmSpikeTrain[:25,:400],sav02)\n",
    "print('Done')\n"
   ]
  }
 ],
 "metadata": {
  "kernelspec": {
   "display_name": "Python 3",
   "language": "python",
   "name": "python3"
  },
  "language_info": {
   "codemirror_mode": {
    "name": "ipython",
    "version": 3
   },
   "file_extension": ".py",
   "mimetype": "text/x-python",
   "name": "python",
   "nbconvert_exporter": "python",
   "pygments_lexer": "ipython3",
   "version": "3.7.3"
  }
 },
 "nbformat": 4,
 "nbformat_minor": 2
}
